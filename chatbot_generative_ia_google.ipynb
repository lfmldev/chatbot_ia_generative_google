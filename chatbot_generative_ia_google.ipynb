{
  "cells": [
    {
      "cell_type": "markdown",
      "metadata": {
        "id": "view-in-github",
        "colab_type": "text"
      },
      "source": [
        "<a href=\"https://colab.research.google.com/github/lfmldev/chatbot_ia_generative_google/blob/main/chatbot_generative_ia_google.ipynb\" target=\"_parent\"><img src=\"https://colab.research.google.com/assets/colab-badge.svg\" alt=\"Open In Colab\"/></a>"
      ]
    },
    {
      "cell_type": "markdown",
      "source": [
        "# Utilizando o Google IA Studio no Python - Criando um chatbot"
      ],
      "metadata": {
        "id": "S9v7Kt1StiXd"
      }
    },
    {
      "cell_type": "markdown",
      "source": [
        "### Preparação do ambiente"
      ],
      "metadata": {
        "id": "q-i7uNeGtJ6O"
      }
    },
    {
      "cell_type": "code",
      "execution_count": 1,
      "metadata": {
        "id": "nFQLKQ6hfXch",
        "colab": {
          "base_uri": "https://localhost:8080/"
        },
        "outputId": "cbd5d547-b42f-457c-c306-84a9c5bd674d"
      },
      "outputs": [
        {
          "output_type": "stream",
          "name": "stdout",
          "text": [
            "\u001b[2K     \u001b[90m━━━━━━━━━━━━━━━━━━━━━━━━━━━━━━━━━━━━━━━━\u001b[0m \u001b[32m150.7/150.7 kB\u001b[0m \u001b[31m2.2 MB/s\u001b[0m eta \u001b[36m0:00:00\u001b[0m\n",
            "\u001b[2K     \u001b[90m━━━━━━━━━━━━━━━━━━━━━━━━━━━━━━━━━━━━━━━━\u001b[0m \u001b[32m677.8/677.8 kB\u001b[0m \u001b[31m14.4 MB/s\u001b[0m eta \u001b[36m0:00:00\u001b[0m\n",
            "\u001b[?25h"
          ]
        }
      ],
      "source": [
        "#Instalando o SDK do Google\n",
        "!pip install -q -U google-generativeai"
      ]
    },
    {
      "cell_type": "code",
      "execution_count": 3,
      "metadata": {
        "id": "IthzwfnAfcsi"
      },
      "outputs": [],
      "source": [
        "#Configurações iniciais\n",
        "import google.generativeai as genai\n",
        "from google.colab import userdata\n",
        "api_key = userdata.get('SECRET_KEY')\n",
        "GOOGLE_API_KEY=api_key # Chave da API disponível no Google IA Studio\n",
        "genai.configure(api_key=GOOGLE_API_KEY)"
      ]
    },
    {
      "cell_type": "markdown",
      "source": [
        "#### Listando modelos disponíveis"
      ],
      "metadata": {
        "id": "PFFdTzl5vqLl"
      }
    },
    {
      "cell_type": "code",
      "execution_count": 4,
      "metadata": {
        "colab": {
          "base_uri": "https://localhost:8080/",
          "height": 146
        },
        "id": "iD3ihugymWBt",
        "outputId": "6fe4cb2f-93e8-487c-805b-cc4ac02a78fa"
      },
      "outputs": [
        {
          "output_type": "stream",
          "name": "stdout",
          "text": [
            "models/gemini-1.0-pro\n",
            "models/gemini-1.0-pro-001\n",
            "models/gemini-1.0-pro-latest\n",
            "models/gemini-1.0-pro-vision-latest\n",
            "models/gemini-1.5-pro-latest\n",
            "models/gemini-pro\n",
            "models/gemini-pro-vision\n"
          ]
        }
      ],
      "source": [
        "#Listando os modelos disponíveis, irá gerar modelos que geram conteúdo.\n",
        "for m in genai.list_models():                             # para cada modelo na lista de modelos.\n",
        "  if 'generateContent' in m.supported_generation_methods: # se o médodo de geração suportados que geram conteúdo,\n",
        "    print(m.name)                                         # imprima os nomes!\n",
        "\n",
        "# Atentar-se a versão ideal para o projeto\n",
        "# Podemos utilizar versões mais atuais e experimentais ou modelos mais"
      ]
    },
    {
      "cell_type": "markdown",
      "source": [
        "#### Parâmetros de configuração"
      ],
      "metadata": {
        "id": "EV2NRaYBvyRU"
      }
    },
    {
      "cell_type": "code",
      "execution_count": 8,
      "metadata": {
        "id": "O1ochaeyDn_o"
      },
      "outputs": [],
      "source": [
        "# Configurando parâmetros (O mesmo utilizado no IA Studio)\n",
        "# Cria-se um dicionário para armazenar as configurações\n",
        "# Não é necessário se preocupar com a ordem pois a biblioteca aceita ordens\n",
        "# diversas\n",
        "my_generation_config = {\n",
        "  \"candidate_count\": 1, # Número de respostas ou alternativas de respostas\n",
        "  \"temperature\": 0.5,   # Temperatura - Mais alta mais criativa e mais baixa mais acertiva\n",
        "}"
      ]
    },
    {
      "cell_type": "code",
      "execution_count": 9,
      "metadata": {
        "id": "jwBv7DofDofw"
      },
      "outputs": [],
      "source": [
        "# Parâmetros de segurança e filtragem\n",
        "# As vezes se faz necessário o não bloqueio para analisar por exemplo a busca\n",
        "# por discursos de ódio, etc.\n",
        "# Há uma configuração padrão da Google, caso queira utilizar basta não\n",
        "# alterar\n",
        "\n",
        "my_safety_settings={\n",
        "    'HATE': 'BLOCK_NONE',\n",
        "    'HARASSMENT': 'BLOCK_NONE',\n",
        "    'SEXUAL' : 'BLOCK_NONE',\n",
        "    'DANGEROUS' : 'BLOCK_NONE'\n",
        "    }"
      ]
    },
    {
      "cell_type": "markdown",
      "source": [
        "### Utilizando o modelo"
      ],
      "metadata": {
        "id": "4hu_8-Fp0e5E"
      }
    },
    {
      "cell_type": "markdown",
      "source": [
        "#### Inicializando o modelo a ser utilizado"
      ],
      "metadata": {
        "id": "shKHFHzvwQY1"
      }
    },
    {
      "cell_type": "code",
      "execution_count": 10,
      "metadata": {
        "id": "NIiSs1R5mVJE"
      },
      "outputs": [],
      "source": [
        "# Cria-se uma variável e instancia o modelo com as configurações:\n",
        "model = genai.GenerativeModel(model_name='gemini-1.0-pro',\n",
        "                                  generation_config = my_generation_config,\n",
        "                                  safety_settings = my_safety_settings,)"
      ]
    },
    {
      "cell_type": "markdown",
      "source": [
        "#### Criando uma resposta"
      ],
      "metadata": {
        "id": "9CSP1PF5zBqb"
      }
    },
    {
      "cell_type": "code",
      "execution_count": 15,
      "metadata": {
        "colab": {
          "base_uri": "https://localhost:8080/",
          "height": 166
        },
        "id": "vrRjhT2rlrU_",
        "outputId": "8aaabe48-b295-4dd5-c712-80e41f41c5c1"
      },
      "outputs": [
        {
          "output_type": "stream",
          "name": "stdout",
          "text": [
            "response:\n",
            "GenerateContentResponse(\n",
            "    done=True,\n",
            "    iterator=None,\n",
            "    result=glm.GenerateContentResponse({'candidates': [{'content': {'parts': [{'text': 'Google'}], 'role': 'model'}, 'finish_reason': 1, 'index': 0, 'safety_ratings': [{'category': 9, 'probability': 1, 'blocked': False}, {'category': 8, 'probability': 1, 'blocked': False}, {'category': 7, 'probability': 1, 'blocked': False}, {'category': 10, 'probability': 1, 'blocked': False}], 'token_count': 0, 'grounding_attributions': []}]}),\n",
            ")\n",
            "Google\n"
          ]
        }
      ],
      "source": [
        "# Gerar uma resposta para testar o modelo:\n",
        "response = model.generate_content(\"Que empresa criou o modelo de IA Gemini?\")\n",
        "print(response) # Deve-se colocar o .text para que o modelo devolva a resposta em texto\n",
        "print(response.text)"
      ]
    },
    {
      "cell_type": "markdown",
      "source": [
        "### Criação do chatbot"
      ],
      "metadata": {
        "id": "x_aRb-Ny0jiT"
      }
    },
    {
      "cell_type": "code",
      "execution_count": 16,
      "metadata": {
        "colab": {
          "base_uri": "https://localhost:8080/"
        },
        "id": "KpaQ6hm5f2_J",
        "outputId": "c78fe29f-f6c9-40c5-b857-717bf8dd5edf"
      },
      "outputs": [
        {
          "name": "stdout",
          "output_type": "stream",
          "text": [
            "Resposta: Não tenho acesso a informações em tempo real, portanto, não posso fornecer o resultado do último jogo do Botafogo. Recomendo verificar o site oficial do clube ou fontes confiáveis de notícias esportivas para obter as informações mais atualizadas. \n",
            "\n",
            "\n",
            "Resposta: **Botafogo de Futebol e Regatas**\n",
            "\n",
            "* **Data de fundação:** 12 de agosto de 1904 \n",
            "\n",
            "\n",
            "Esperando prompt: fim\n"
          ]
        }
      ],
      "source": [
        "# A própria plataforma oferece um método para a inicialização do chat\n",
        "\n",
        "#Instanciando todo o modedlo em uma váriavel\n",
        "chat = model.start_chat(history=[])  # Cria-se um histórico para armazenar as conversas em uma lista\n",
        "\n",
        "# Utilizar um input como prompt da IA\n",
        "prompt = input('Esperando prompt: ')\n",
        "\n",
        "# Criar uma estrutura de loop para rodar constantemente\n",
        "# o chat de definir uma parada\n",
        "\n",
        "while prompt != \"fim\": # Enquanto diferente de 'fim' faça:\n",
        "  response = chat.send_message(prompt)      # usa o modelo já instanciado\n",
        "  print(\"Resposta:\", response.text, '\\n\\n') # Imprime a resposta\n",
        "  prompt = input('Esperando prompt: ')      # enquanto não recebe o comando, refaz o prompt"
      ]
    },
    {
      "cell_type": "markdown",
      "source": [
        "#### Observando parâmetros do chatbot"
      ],
      "metadata": {
        "id": "Ds1TodId4TbK"
      }
    },
    {
      "cell_type": "code",
      "execution_count": 18,
      "metadata": {
        "id": "XLAniTTDhHNW",
        "colab": {
          "base_uri": "https://localhost:8080/"
        },
        "outputId": "c750804a-fbf2-4214-86ce-88eb2452cec2"
      },
      "outputs": [
        {
          "output_type": "execute_result",
          "data": {
            "text/plain": [
              "ChatSession(\n",
              "    model=genai.GenerativeModel(\n",
              "        model_name='models/gemini-1.0-pro',\n",
              "        generation_config={'candidate_count': 1, 'temperature': 0.5},\n",
              "        safety_settings={<HarmCategory.HARM_CATEGORY_HATE_SPEECH: 8>: <HarmBlockThreshold.BLOCK_NONE: 4>, <HarmCategory.HARM_CATEGORY_HARASSMENT: 7>: <HarmBlockThreshold.BLOCK_NONE: 4>, <HarmCategory.HARM_CATEGORY_SEXUALLY_EXPLICIT: 9>: <HarmBlockThreshold.BLOCK_NONE: 4>, <HarmCategory.HARM_CATEGORY_DANGEROUS_CONTENT: 10>: <HarmBlockThreshold.BLOCK_NONE: 4>},\n",
              "        tools=None,\n",
              "        system_instruction=None,\n",
              "    ),\n",
              "    history=[glm.Content({'parts': [{'text': 'Quanto foi o... do botafogo?'}], 'role': 'user'}), glm.Content({'parts': [{'text': 'Não tenho ac... atualizadas.'}], 'role': 'model'}), glm.Content({'parts': [{'text': 'E sobre este...sua fundação?'}], 'role': 'user'}), glm.Content({'parts': [{'text': '**Botafogo d...gosto de 1904'}], 'role': 'model'})]\n",
              ")"
            ]
          },
          "metadata": {},
          "execution_count": 18
        }
      ],
      "source": [
        "chat # Informações sobre a sessão do chat"
      ]
    },
    {
      "cell_type": "markdown",
      "source": [
        "#### Visualizando o histórico da conversa"
      ],
      "metadata": {
        "id": "7B2AqGPv4avD"
      }
    },
    {
      "cell_type": "code",
      "execution_count": 19,
      "metadata": {
        "id": "sd8mvW9KghTf",
        "colab": {
          "base_uri": "https://localhost:8080/"
        },
        "outputId": "00e1fc70-542b-4a96-8c4e-ae9ea9750b63"
      },
      "outputs": [
        {
          "output_type": "execute_result",
          "data": {
            "text/plain": [
              "[parts {\n",
              "   text: \"Quanto foi o \\303\\272tlimo jogo do botafogo?\"\n",
              " }\n",
              " role: \"user\",\n",
              " parts {\n",
              "   text: \"N\\303\\243o tenho acesso a informa\\303\\247\\303\\265es em tempo real, portanto, n\\303\\243o posso fornecer o resultado do \\303\\272ltimo jogo do Botafogo. Recomendo verificar o site oficial do clube ou fontes confi\\303\\241veis de not\\303\\255cias esportivas para obter as informa\\303\\247\\303\\265es mais atualizadas.\"\n",
              " }\n",
              " role: \"model\",\n",
              " parts {\n",
              "   text: \"E sobre este clube, qual \\303\\251 a data de sua funda\\303\\247\\303\\243o?\"\n",
              " }\n",
              " role: \"user\",\n",
              " parts {\n",
              "   text: \"**Botafogo de Futebol e Regatas**\\n\\n* **Data de funda\\303\\247\\303\\243o:** 12 de agosto de 1904\"\n",
              " }\n",
              " role: \"model\"]"
            ]
          },
          "metadata": {},
          "execution_count": 19
        }
      ],
      "source": [
        "chat.history # Apresenta o histórico do chat em uma lista, préviamente definida"
      ]
    },
    {
      "cell_type": "markdown",
      "source": [
        "#### Melhorando a visualização"
      ],
      "metadata": {
        "id": "UyGN3N6B4j-a"
      }
    },
    {
      "cell_type": "code",
      "execution_count": 20,
      "metadata": {
        "id": "dAcbPBocgzeX",
        "colab": {
          "base_uri": "https://localhost:8080/",
          "height": 313
        },
        "outputId": "c433b6bc-4edf-4115-ef89-fc14217b7643"
      },
      "outputs": [
        {
          "output_type": "display_data",
          "data": {
            "text/plain": [
              "<IPython.core.display.Markdown object>"
            ],
            "text/markdown": "> **user**: Quanto foi o útlimo jogo do botafogo?"
          },
          "metadata": {}
        },
        {
          "output_type": "stream",
          "name": "stdout",
          "text": [
            "-------------------------------------------\n"
          ]
        },
        {
          "output_type": "display_data",
          "data": {
            "text/plain": [
              "<IPython.core.display.Markdown object>"
            ],
            "text/markdown": "> **model**: Não tenho acesso a informações em tempo real, portanto, não posso fornecer o resultado do último jogo do Botafogo. Recomendo verificar o site oficial do clube ou fontes confiáveis de notícias esportivas para obter as informações mais atualizadas."
          },
          "metadata": {}
        },
        {
          "output_type": "stream",
          "name": "stdout",
          "text": [
            "-------------------------------------------\n"
          ]
        },
        {
          "output_type": "display_data",
          "data": {
            "text/plain": [
              "<IPython.core.display.Markdown object>"
            ],
            "text/markdown": "> **user**: E sobre este clube, qual é a data de sua fundação?"
          },
          "metadata": {}
        },
        {
          "output_type": "stream",
          "name": "stdout",
          "text": [
            "-------------------------------------------\n"
          ]
        },
        {
          "output_type": "display_data",
          "data": {
            "text/plain": [
              "<IPython.core.display.Markdown object>"
            ],
            "text/markdown": "> **model**: **Botafogo de Futebol e Regatas**\n> \n> * **Data de fundação:** 12 de agosto de 1904"
          },
          "metadata": {}
        },
        {
          "output_type": "stream",
          "name": "stdout",
          "text": [
            "-------------------------------------------\n"
          ]
        }
      ],
      "source": [
        "#Código disponível em https://ai.google.dev/tutorials/python_quickstart#import_packages\n",
        "import textwrap\n",
        "from IPython.display import display\n",
        "from IPython.display import Markdown\n",
        "\n",
        "def to_markdown(text):\n",
        "  text = text.replace('•', '  *')\n",
        "  return Markdown(textwrap.indent(text, '> ', predicate=lambda _: True))\n",
        "\n",
        "#Imprimindo o histórico\n",
        "for message in chat.history:\n",
        "  display(to_markdown(f'**{message.role}**: {message.parts[0].text}'))\n",
        "  print('-------------------------------------------')"
      ]
    }
  ],
  "metadata": {
    "colab": {
      "provenance": [],
      "include_colab_link": true
    },
    "kernelspec": {
      "display_name": "Python 3",
      "name": "python3"
    },
    "language_info": {
      "name": "python"
    }
  },
  "nbformat": 4,
  "nbformat_minor": 0
}